{
 "cells": [
  {
   "cell_type": "markdown",
   "metadata": {
    "application/vnd.databricks.v1+cell": {
     "cellMetadata": {},
     "inputWidgets": {},
     "nuid": "059a84d1-3f88-41c1-b2ca-a6ace2ab0c2a",
     "showTitle": false,
     "title": ""
    }
   },
   "source": [
    "##### Spark Join Transformation"
   ]
  },
  {
   "cell_type": "code",
   "execution_count": null,
   "metadata": {
    "application/vnd.databricks.v1+cell": {
     "cellMetadata": {},
     "inputWidgets": {},
     "nuid": "8abb2082-4c06-415b-8929-e7561299e265",
     "showTitle": false,
     "title": ""
    }
   },
   "outputs": [],
   "source": [
    "from pandas import read_csv\n",
    "from lib import configuration"
   ]
  },
  {
   "cell_type": "code",
   "execution_count": null,
   "metadata": {
    "application/vnd.databricks.v1+cell": {
     "cellMetadata": {},
     "inputWidgets": {},
     "nuid": "07de3fb4-587d-46e6-be1e-33ce1a6212f3",
     "showTitle": false,
     "title": ""
    }
   },
   "outputs": [],
   "source": [
    "circuits_df = read_csv(f'{configuration.silver_folder_path}/circuits.csv')\n",
    "circuits_df = circuits_df[(circuits_df['circuit_id']<70)]\n",
    "circuits_df\n"
   ]
  },
  {
   "cell_type": "code",
   "execution_count": null,
   "metadata": {
    "application/vnd.databricks.v1+cell": {
     "cellMetadata": {},
     "inputWidgets": {},
     "nuid": "1dbc4711-8bb5-42e6-8259-33e08d4ddefb",
     "showTitle": false,
     "title": ""
    }
   },
   "outputs": [],
   "source": [
    "races_df = read_csv(f'{configuration.silver_folder_path}/races.csv')\n",
    "races_df = races_df[(races_df['year']==2019)]\n",
    "races_df"
   ]
  },
  {
   "cell_type": "markdown",
   "metadata": {
    "application/vnd.databricks.v1+cell": {
     "cellMetadata": {},
     "inputWidgets": {},
     "nuid": "04cbc67b-fce5-4fe1-9154-8dcc3b4c8f96",
     "showTitle": false,
     "title": ""
    }
   },
   "source": [
    "##### Inner Join"
   ]
  },
  {
   "cell_type": "code",
   "execution_count": null,
   "metadata": {},
   "outputs": [],
   "source": [
    "race_circuits_df = circuits_df.set_index(\"circuit_id\").join(races_df.set_index(\"circuit_id\"), lsuffix='race_', how='inner')\n",
    "race_circuits_df = race_circuits_df[[\"circuit_name\", \"location\", \"country\", \"race_name\"]]\n",
    "race_circuits_df"
   ]
  },
  {
   "cell_type": "markdown",
   "metadata": {
    "application/vnd.databricks.v1+cell": {
     "cellMetadata": {},
     "inputWidgets": {},
     "nuid": "fdbbe339-3cff-4866-bd85-17471f5f718d",
     "showTitle": false,
     "title": ""
    }
   },
   "source": [
    "##### Outer Joins"
   ]
  },
  {
   "cell_type": "code",
   "execution_count": null,
   "metadata": {
    "application/vnd.databricks.v1+cell": {
     "cellMetadata": {},
     "inputWidgets": {},
     "nuid": "b713f3bb-1d2b-4825-8a5f-6e0a35ca8c2b",
     "showTitle": false,
     "title": ""
    }
   },
   "outputs": [],
   "source": [
    "# Left Outer Join\n",
    "race_circuits_df = circuits_df.set_index(\"circuit_id\").join(races_df.set_index(\"circuit_id\"), lsuffix='race_', how='left')\n",
    "race_circuits_df = race_circuits_df[[\"circuit_name\", \"location\", \"country\", \"race_name\"]]\n",
    "race_circuits_df"
   ]
  },
  {
   "cell_type": "code",
   "execution_count": null,
   "metadata": {
    "application/vnd.databricks.v1+cell": {
     "cellMetadata": {},
     "inputWidgets": {},
     "nuid": "368fbc1e-80ae-4056-8918-d5b976591ef1",
     "showTitle": false,
     "title": ""
    }
   },
   "outputs": [],
   "source": [
    "# right Outer Join\n",
    "race_circuits_df = circuits_df.set_index(\"circuit_id\").join(races_df.set_index(\"circuit_id\"), lsuffix='race_', how='right')\n",
    "race_circuits_df = race_circuits_df[[\"circuit_name\", \"location\", \"country\", \"race_name\"]]\n",
    "race_circuits_df"
   ]
  },
  {
   "cell_type": "code",
   "execution_count": null,
   "metadata": {
    "application/vnd.databricks.v1+cell": {
     "cellMetadata": {},
     "inputWidgets": {},
     "nuid": "2d815a99-2840-4f56-8c8f-af64495d251a",
     "showTitle": false,
     "title": ""
    }
   },
   "outputs": [],
   "source": [
    "# full Outer Join\n",
    "race_circuits_df = circuits_df.set_index(\"circuit_id\").join(races_df.set_index(\"circuit_id\"), lsuffix='race_', how='outer')\n",
    "race_circuits_df = race_circuits_df[[\"circuit_name\", \"location\", \"country\", \"race_name\"]]\n",
    "race_circuits_df"
   ]
  },
  {
   "cell_type": "markdown",
   "metadata": {
    "application/vnd.databricks.v1+cell": {
     "cellMetadata": {},
     "inputWidgets": {},
     "nuid": "ce13176a-5c0a-4be5-bda4-179019b2e7ce",
     "showTitle": false,
     "title": ""
    }
   },
   "source": [
    "##### Semi Joins"
   ]
  },
  {
   "cell_type": "code",
   "execution_count": null,
   "metadata": {
    "application/vnd.databricks.v1+cell": {
     "cellMetadata": {},
     "inputWidgets": {},
     "nuid": "e27db4a1-744c-4f2c-a817-9db3a8f31d80",
     "showTitle": false,
     "title": ""
    }
   },
   "outputs": [],
   "source": [
    "#race_circuits_df = circuits_df.join(races_df, circuits_df.circuit_id == races_df.circuit_id, \"semi\") "
   ]
  },
  {
   "cell_type": "markdown",
   "metadata": {
    "application/vnd.databricks.v1+cell": {
     "cellMetadata": {},
     "inputWidgets": {},
     "nuid": "66861d8b-9cc1-4b42-9fd0-f8295f3e263d",
     "showTitle": false,
     "title": ""
    }
   },
   "source": [
    "##### Anti Joins"
   ]
  },
  {
   "cell_type": "code",
   "execution_count": null,
   "metadata": {
    "application/vnd.databricks.v1+cell": {
     "cellMetadata": {},
     "inputWidgets": {},
     "nuid": "b7b4f47d-ce14-4c24-a679-df72e308f387",
     "showTitle": false,
     "title": ""
    }
   },
   "outputs": [],
   "source": [
    "#race_circuits_df = races_df.join(circuits_df, circuits_df.circuit_id == races_df.circuit_id, \"anti\") "
   ]
  },
  {
   "cell_type": "markdown",
   "metadata": {
    "application/vnd.databricks.v1+cell": {
     "cellMetadata": {},
     "inputWidgets": {},
     "nuid": "cce32608-cadf-4f4f-8906-fc57fcfed916",
     "showTitle": false,
     "title": ""
    }
   },
   "source": [
    "##### Cross Joins"
   ]
  },
  {
   "cell_type": "code",
   "execution_count": null,
   "metadata": {
    "application/vnd.databricks.v1+cell": {
     "cellMetadata": {},
     "inputWidgets": {},
     "nuid": "ad9e2d9c-33e2-48f3-86a2-7879c30b9ebd",
     "showTitle": false,
     "title": ""
    }
   },
   "outputs": [],
   "source": [
    "race_circuits_df = circuits_df.set_index(\"circuit_id\").join(races_df.set_index(\"circuit_id\"), lsuffix='race_', how='cross')\n",
    "race_circuits_df = race_circuits_df[[\"circuit_name\", \"location\", \"country\", \"race_name\"]]\n",
    "race_circuits_df"
   ]
  },
  {
   "cell_type": "code",
   "execution_count": null,
   "metadata": {
    "application/vnd.databricks.v1+cell": {
     "cellMetadata": {},
     "inputWidgets": {},
     "nuid": "b84469fd-c56f-42d3-8063-2d9994dafa38",
     "showTitle": false,
     "title": ""
    }
   },
   "outputs": [],
   "source": [
    "race_circuits_df.count()"
   ]
  },
  {
   "cell_type": "code",
   "execution_count": null,
   "metadata": {
    "application/vnd.databricks.v1+cell": {
     "cellMetadata": {},
     "inputWidgets": {},
     "nuid": "bd446ce6-09c6-4874-a972-36b903975d03",
     "showTitle": false,
     "title": ""
    }
   },
   "outputs": [],
   "source": [
    "#int(races_df.count()) * int(circuits_df.count())"
   ]
  }
 ],
 "metadata": {
  "application/vnd.databricks.v1+notebook": {
   "dashboards": [],
   "language": "python",
   "notebookMetadata": {
    "pythonIndentUnit": 2
   },
   "notebookName": "2.join_demo",
   "widgets": {}
  },
  "kernelspec": {
   "display_name": "Python 3",
   "language": "python",
   "name": "python3"
  },
  "language_info": {
   "codemirror_mode": {
    "name": "ipython",
    "version": 3
   },
   "file_extension": ".py",
   "mimetype": "text/x-python",
   "name": "python",
   "nbconvert_exporter": "python",
   "pygments_lexer": "ipython3",
   "version": "3.10.1"
  }
 },
 "nbformat": 4,
 "nbformat_minor": 0
}
