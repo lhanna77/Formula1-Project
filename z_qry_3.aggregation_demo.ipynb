{
 "cells": [
  {
   "cell_type": "code",
   "execution_count": null,
   "metadata": {
    "application/vnd.databricks.v1+cell": {
     "cellMetadata": {},
     "inputWidgets": {},
     "nuid": "59ee72f8-f55c-4912-b95b-04f5910d38fc",
     "showTitle": false,
     "title": ""
    }
   },
   "outputs": [],
   "source": [
    "from pandas import read_csv\n",
    "from lib import configuration\n",
    "from lib import common_functions"
   ]
  },
  {
   "cell_type": "markdown",
   "metadata": {
    "application/vnd.databricks.v1+cell": {
     "cellMetadata": {},
     "inputWidgets": {},
     "nuid": "8980693f-f49e-46a7-9577-27ae499670e2",
     "showTitle": false,
     "title": ""
    }
   },
   "source": [
    "#### Aggregate functions demo"
   ]
  },
  {
   "cell_type": "markdown",
   "metadata": {
    "application/vnd.databricks.v1+cell": {
     "cellMetadata": {},
     "inputWidgets": {},
     "nuid": "8449c69a-5091-465d-a808-80bc27e6bd91",
     "showTitle": false,
     "title": ""
    }
   },
   "source": [
    "##### Built-in Aggregate functions"
   ]
  },
  {
   "cell_type": "code",
   "execution_count": null,
   "metadata": {},
   "outputs": [],
   "source": [
    "race_results_df = read_csv(f'{configuration.silver_folder_path}/race_results.csv')\n",
    "race_results_df"
   ]
  },
  {
   "cell_type": "code",
   "execution_count": null,
   "metadata": {
    "application/vnd.databricks.v1+cell": {
     "cellMetadata": {},
     "inputWidgets": {},
     "nuid": "2403872e-e648-4675-8116-c5d2389583e2",
     "showTitle": false,
     "title": ""
    }
   },
   "outputs": [],
   "source": [
    "demo_df = race_results_df[(race_results_df['race_year']==2020)]\n",
    "demo_df"
   ]
  },
  {
   "cell_type": "code",
   "execution_count": null,
   "metadata": {
    "application/vnd.databricks.v1+cell": {
     "cellMetadata": {},
     "inputWidgets": {},
     "nuid": "8a9cf954-33c7-441b-ad7c-62cb2f3cad4e",
     "showTitle": false,
     "title": ""
    }
   },
   "outputs": [],
   "source": [
    "demo_df.shape[0]"
   ]
  },
  {
   "cell_type": "code",
   "execution_count": null,
   "metadata": {
    "application/vnd.databricks.v1+cell": {
     "cellMetadata": {},
     "inputWidgets": {},
     "nuid": "c8791f73-2779-4b24-b4dd-cb290153d881",
     "showTitle": false,
     "title": ""
    }
   },
   "outputs": [],
   "source": [
    "race_distinct_count_2020 = demo_df[\"race_name\"].nunique()\n",
    "race_distinct_count_2020"
   ]
  },
  {
   "cell_type": "code",
   "execution_count": null,
   "metadata": {
    "application/vnd.databricks.v1+cell": {
     "cellMetadata": {},
     "inputWidgets": {},
     "nuid": "7a4eabec-505f-4230-ab44-2216bfdd5404",
     "showTitle": false,
     "title": ""
    }
   },
   "outputs": [],
   "source": [
    "points_2020 = demo_df[\"points\"].sum()\n",
    "points_2020"
   ]
  },
  {
   "cell_type": "code",
   "execution_count": null,
   "metadata": {
    "application/vnd.databricks.v1+cell": {
     "cellMetadata": {},
     "inputWidgets": {},
     "nuid": "0e2b7418-0b9f-458f-98d5-bd60d6c36248",
     "showTitle": false,
     "title": ""
    }
   },
   "outputs": [],
   "source": [
    "#demo_df.filter(\"driver_name = 'Lewis Hamilton'\").select(sum(\"points\")).show()\n",
    "\n",
    "lewis_demo_df = demo_df[(demo_df['driver_name']=='Lewis Hamilton')]\n",
    "lewis_points = lewis_demo_df[\"points\"].sum()\n",
    "lewis_points"
   ]
  },
  {
   "cell_type": "code",
   "execution_count": null,
   "metadata": {
    "application/vnd.databricks.v1+cell": {
     "cellMetadata": {},
     "inputWidgets": {},
     "nuid": "7c02f718-7d87-49f2-adc4-aa5f613590a8",
     "showTitle": false,
     "title": ""
    }
   },
   "outputs": [],
   "source": [
    "print(f'Lewis Hamilton 2020 - Races {race_distinct_count_2020} - Points {lewis_points}')"
   ]
  },
  {
   "cell_type": "markdown",
   "metadata": {
    "application/vnd.databricks.v1+cell": {
     "cellMetadata": {},
     "inputWidgets": {},
     "nuid": "848f53ac-362f-4896-bec0-89ae11f3c96f",
     "showTitle": false,
     "title": ""
    }
   },
   "source": [
    "##### groupBy"
   ]
  },
  {
   "cell_type": "code",
   "execution_count": null,
   "metadata": {
    "application/vnd.databricks.v1+cell": {
     "cellMetadata": {},
     "inputWidgets": {},
     "nuid": "a9498cc6-457e-4923-a01c-502698845df1",
     "showTitle": false,
     "title": ""
    }
   },
   "outputs": [],
   "source": [
    "aggs = {\n",
    "    'points':'sum',\n",
    "    'race_name':'nunique'\n",
    "}\n",
    "\n",
    "grouped_df = demo_df.groupby('driver_name').agg(aggs).reset_index()\n",
    "grouped_df"
   ]
  },
  {
   "cell_type": "markdown",
   "metadata": {
    "application/vnd.databricks.v1+cell": {
     "cellMetadata": {},
     "inputWidgets": {},
     "nuid": "2850ab5d-b005-4102-ae7c-49c373ca5fba",
     "showTitle": false,
     "title": ""
    }
   },
   "source": [
    "##### Window Functions"
   ]
  },
  {
   "cell_type": "code",
   "execution_count": null,
   "metadata": {
    "application/vnd.databricks.v1+cell": {
     "cellMetadata": {},
     "inputWidgets": {},
     "nuid": "f14039e1-7775-48fd-a6e8-7ed28b1ca5dc",
     "showTitle": false,
     "title": ""
    }
   },
   "outputs": [],
   "source": [
    "demo_df = race_results_df[(race_results_df['race_year'].isin([2015,2016]))]\n",
    "demo_df"
   ]
  },
  {
   "cell_type": "code",
   "execution_count": null,
   "metadata": {
    "application/vnd.databricks.v1+cell": {
     "cellMetadata": {},
     "inputWidgets": {},
     "nuid": "e0eab994-8dd0-48b6-b307-068e80e84ca7",
     "showTitle": false,
     "title": ""
    }
   },
   "outputs": [],
   "source": [
    "aggs = {\n",
    "    'points':'sum',\n",
    "    'race_name':'nunique'\n",
    "}\n",
    "\n",
    "demo_grouped_df = demo_df.groupby([\"driver_name\",\"race_year\"]).agg(aggs).reset_index()\n",
    "demo_grouped_df\n"
   ]
  },
  {
   "cell_type": "code",
   "execution_count": null,
   "metadata": {
    "application/vnd.databricks.v1+cell": {
     "cellMetadata": {},
     "inputWidgets": {},
     "nuid": "5ae30e0f-df05-4941-9321-e7d7e47cfcb5",
     "showTitle": false,
     "title": ""
    }
   },
   "outputs": [],
   "source": [
    "demo_grouped_df['rank'] = demo_grouped_df.groupby('race_year')['points'].rank(ascending=False)\n",
    "demo_grouped_df"
   ]
  },
  {
   "cell_type": "code",
   "execution_count": null,
   "metadata": {
    "application/vnd.databricks.v1+cell": {
     "cellMetadata": {},
     "inputWidgets": {},
     "nuid": "15cfb9e6-4001-4d41-a196-30b32b08a922",
     "showTitle": false,
     "title": ""
    }
   },
   "outputs": [],
   "source": [
    "common_functions.add_to_excel('files/reports/rank.xlsx', demo_grouped_df, 'rank')"
   ]
  }
 ],
 "metadata": {
  "application/vnd.databricks.v1+notebook": {
   "dashboards": [],
   "language": "python",
   "notebookMetadata": {
    "pythonIndentUnit": 2
   },
   "notebookName": "3.aggregation_demo",
   "widgets": {}
  },
  "kernelspec": {
   "display_name": "Python 3",
   "language": "python",
   "name": "python3"
  },
  "language_info": {
   "codemirror_mode": {
    "name": "ipython",
    "version": 3
   },
   "file_extension": ".py",
   "mimetype": "text/x-python",
   "name": "python",
   "nbconvert_exporter": "python",
   "pygments_lexer": "ipython3",
   "version": "3.10.1"
  }
 },
 "nbformat": 4,
 "nbformat_minor": 0
}
