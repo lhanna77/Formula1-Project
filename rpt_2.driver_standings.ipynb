{
 "cells": [
  {
   "cell_type": "markdown",
   "metadata": {
    "application/vnd.databricks.v1+cell": {
     "cellMetadata": {},
     "inputWidgets": {},
     "nuid": "ad999ff7-73cf-4179-8e32-24d79b9fa48d",
     "showTitle": false,
     "title": ""
    }
   },
   "source": [
    "##### Produce driver standings"
   ]
  },
  {
   "cell_type": "code",
   "execution_count": null,
   "metadata": {
    "application/vnd.databricks.v1+cell": {
     "cellMetadata": {},
     "inputWidgets": {},
     "nuid": "07fa1800-f6d6-4241-a087-17856cd53788",
     "showTitle": false,
     "title": ""
    }
   },
   "outputs": [],
   "source": [
    "from pandas import read_csv\n",
    "from lib import configuration"
   ]
  },
  {
   "cell_type": "code",
   "execution_count": null,
   "metadata": {
    "application/vnd.databricks.v1+cell": {
     "cellMetadata": {},
     "inputWidgets": {},
     "nuid": "74794080-479c-47ad-9035-2ef75f11e7ad",
     "showTitle": false,
     "title": ""
    }
   },
   "outputs": [],
   "source": [
    "race_results_df = read_csv(f'{configuration.silver_folder_path}/race_results.csv')\n",
    "race_results_df = race_results_df[(race_results_df['race_year'].isin([2015,2016]))]\n",
    "race_results_df"
   ]
  },
  {
   "cell_type": "code",
   "execution_count": null,
   "metadata": {},
   "outputs": [],
   "source": [
    "wins_df = race_results_df[(race_results_df['position']=='1')]\n",
    "wins_df['position'] = (wins_df['position']).astype(int)\n",
    "wins_df"
   ]
  },
  {
   "cell_type": "code",
   "execution_count": null,
   "metadata": {},
   "outputs": [],
   "source": [
    "aggs = {\n",
    "    'position':'sum'\n",
    "}\n",
    "\n",
    "wins_df = wins_df.groupby([\"race_year\", \"driver_name\"]).agg(aggs).reset_index()\n",
    "wins_df = wins_df.rename(columns={\"position\":\"wins\"})\n",
    "wins_df.sort_values('wins', ascending=False)"
   ]
  },
  {
   "cell_type": "code",
   "execution_count": null,
   "metadata": {},
   "outputs": [],
   "source": [
    "aggs = {\n",
    "    'points':'sum'\n",
    "}\n",
    "\n",
    "driver_standings_df = race_results_df.groupby([\"race_year\", \"driver_name\", \"driver_nationality\", \"team\"]).agg(aggs).reset_index()\n",
    "driver_standings_df.sort_values('points', ascending=False)"
   ]
  },
  {
   "cell_type": "code",
   "execution_count": null,
   "metadata": {},
   "outputs": [],
   "source": [
    "# Left Outer Join\n",
    "driver_standings_df = driver_standings_df.set_index([\"driver_name\",\"race_year\"]).join(wins_df.set_index([\"driver_name\",\"race_year\"]), rsuffix='_win', how='left').reset_index()\n",
    "driver_standings_df = driver_standings_df[[\"race_year\", \"driver_name\", \"driver_nationality\", \"team\", \"points\", \"wins\"]]\n",
    "driver_standings_df.sort_values('points', ascending=False)"
   ]
  },
  {
   "cell_type": "code",
   "execution_count": null,
   "metadata": {
    "application/vnd.databricks.v1+cell": {
     "cellMetadata": {},
     "inputWidgets": {},
     "nuid": "6edb3b7c-a754-491f-8e53-f7b310299e3b",
     "showTitle": false,
     "title": ""
    }
   },
   "outputs": [],
   "source": [
    "driver_standings_df['rank'] = driver_standings_df.groupby('race_year')['points'].rank(ascending=False)\n",
    "driver_standings_df.sort_values('rank', ascending=True)"
   ]
  },
  {
   "cell_type": "code",
   "execution_count": null,
   "metadata": {
    "application/vnd.databricks.v1+cell": {
     "cellMetadata": {},
     "inputWidgets": {},
     "nuid": "3d18f44c-26aa-4b7c-8913-2fcdb2ace4e8",
     "showTitle": false,
     "title": ""
    }
   },
   "outputs": [],
   "source": [
    "driver_standings_df.to_csv(f\"{configuration.silver_folder_path}/driver_standings.csv\", index=False)"
   ]
  },
  {
   "cell_type": "code",
   "execution_count": null,
   "metadata": {},
   "outputs": [],
   "source": [
    "df_parquet = read_csv(f'{configuration.silver_folder_path}/driver_standings.csv')\n",
    "df_parquet"
   ]
  }
 ],
 "metadata": {
  "application/vnd.databricks.v1+notebook": {
   "dashboards": [],
   "language": "python",
   "notebookMetadata": {
    "pythonIndentUnit": 2
   },
   "notebookName": "2.driver_standings",
   "widgets": {}
  },
  "kernelspec": {
   "display_name": "Python 3",
   "language": "python",
   "name": "python3"
  },
  "language_info": {
   "codemirror_mode": {
    "name": "ipython",
    "version": 3
   },
   "file_extension": ".py",
   "mimetype": "text/x-python",
   "name": "python",
   "nbconvert_exporter": "python",
   "pygments_lexer": "ipython3",
   "version": "3.10.1"
  }
 },
 "nbformat": 4,
 "nbformat_minor": 0
}
